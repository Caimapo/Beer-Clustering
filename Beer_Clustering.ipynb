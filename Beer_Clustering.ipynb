{
 "cells": [
  {
   "cell_type": "markdown",
   "metadata": {
    "slideshow": {
     "slide_type": "notes"
    }
   },
   "source": [
    "## Tarea 1 - Beer Clustering\n",
    "### Reconocimiento de patrones en Minería de Datos\n",
    "\n",
    "Para esta tarea se realizara la implementación de los algoritmos de clustering: *K-means, Minibatch K-means, HAC Complete, DBSCAN* para el análisis de las reseñas obtenidos de la página beeradvocate la cual consta de un poco más de un millón y medio de datos como el dataset de prueba de los algoritmos, en los cuales se estudiara los valores de entrada de cada uno para obtener los clusters más adecuados."
   ]
  },
  {
   "cell_type": "markdown",
   "metadata": {
    "slideshow": {
     "slide_type": "notes"
    }
   },
   "source": [
    "# Caracterización del dataset\n",
    "El data set consta de 13 atributos los cuales son:\n",
    "\n",
    "<table class=\"tg\">\n",
    "  <tr>\n",
    "    <th class=\"tg-yw4l\">Nombre atributo</th>\n",
    "    <th class=\"tg-yw4l\">Tipo<br></th>\n",
    "  </tr>\n",
    "  <tr>\n",
    "    <td class=\"tg-yw4l\">brewery_id</td>\n",
    "    <td class=\"tg-yw4l\">int64</td>\n",
    "  </tr>\n",
    "  <tr>\n",
    "    <td class=\"tg-yw4l\">brewery_name</td>\n",
    "    <td class=\"tg-yw4l\">object</td>\n",
    "  </tr>\n",
    "  <tr>\n",
    "    <td class=\"tg-yw4l\">review_time</td>\n",
    "    <td class=\"tg-yw4l\">int64</td>\n",
    "  </tr>\n",
    "  <tr>\n",
    "    <td class=\"tg-yw4l\">review_overall</td>\n",
    "    <td class=\"tg-yw4l\">float64</td>\n",
    "  </tr>\n",
    "  <tr>\n",
    "    <td class=\"tg-yw4l\">review_aroma</td>\n",
    "    <td class=\"tg-yw4l\">float64</td>\n",
    "  </tr>\n",
    "  <tr>\n",
    "    <td class=\"tg-yw4l\">review_appearance</td>\n",
    "    <td class=\"tg-yw4l\">float64</td>\n",
    "  </tr>\n",
    "  <tr>\n",
    "    <td class=\"tg-yw4l\">review_profilename</td>\n",
    "    <td class=\"tg-yw4l\">object </td>\n",
    "  </tr>\n",
    "  <tr>\n",
    "    <td class=\"tg-yw4l\">beer_style</td>\n",
    "    <td class=\"tg-yw4l\">object </td>\n",
    "  </tr>\n",
    "  <tr>\n",
    "    <td class=\"tg-yw4l\">review_palate</td>\n",
    "    <td class=\"tg-yw4l\">float64</td>\n",
    "  </tr>\n",
    "  <tr>\n",
    "    <td class=\"tg-yw4l\">review_taste</td>\n",
    "    <td class=\"tg-yw4l\">float64</td>\n",
    "  </tr>\n",
    "  <tr>\n",
    "    <td class=\"tg-yw4l\">beer_name</td>\n",
    "    <td class=\"tg-yw4l\">object </td>\n",
    "  </tr>\n",
    "  <tr>\n",
    "    <td class=\"tg-yw4l\">beer_abv</td>\n",
    "    <td class=\"tg-yw4l\">float64</td>\n",
    "  </tr>\n",
    "  <tr>\n",
    "    <td class=\"tg-yw4l\">beer_beerid</td>\n",
    "    <td class=\"tg-yw4l\">int64</td>\n",
    "  </tr>\n",
    "</table>\n",
    "\n",
    "\n",
    "De los cuales como beer_name y beer_beerid con brewery_id y brewery_name son equivalentes entre si y son del tipo de atributo que sirven para etiquetar. Con lo que la dim real del dataset puede ser reducida a 11 atributos que son representativo en aspectos de calificativos, temporales y la tendencia de quien lo calificó.\n",
    "Lo que implica que para los algoritmos [K-means, MiniBatch K-menas] que funcionan directamente sobre datos categoricos, por varias razones, el espacio muestral de los datos categoricos es discreto, y no tiene un origen natural. La función de distancia Euclidiana en este espacio no tiene un significado de peso. Dicho esto para realizar los cluster en el caso de [k means] se descartaran estos datos de tipo categorico en el análisis."
   ]
  },
  {
   "cell_type": "code",
   "execution_count": 2,
   "metadata": {
    "collapsed": false
   },
   "outputs": [
    {
     "name": "stdout",
     "output_type": "stream",
     "text": [
      "brewery_id            False\n",
      "brewery_name          False\n",
      "review_time           False\n",
      "review_overall        False\n",
      "review_aroma          False\n",
      "review_appearance     False\n",
      "review_profilename    False\n",
      "beer_style            False\n",
      "review_palate         False\n",
      "review_taste          False\n",
      "beer_name             False\n",
      "beer_abv              False\n",
      "beer_beerid           False\n",
      "dtype: bool\n",
      "Index(['brewery_id', 'brewery_name', 'review_time', 'review_overall',\n",
      "       'review_aroma', 'review_appearance', 'review_profilename', 'beer_style',\n",
      "       'review_palate', 'review_taste', 'beer_name', 'beer_abv',\n",
      "       'beer_beerid'],\n",
      "      dtype='object')\n",
      "(500, 13)\n"
     ]
    }
   ],
   "source": [
    "import numpy as np\n",
    "import pandas as pn\n",
    "import scipy\n",
    "from sklearn import manifold\n",
    "import matplotlib.pyplot as plt\n",
    "import sklearn\n",
    "\n",
    "beer_reviews  = pn.read_csv('beer_reviews/beer_reviews.csv',na_values=[''])[:500]\n",
    "beer_reviews = beer_reviews.fillna(method='ffill')\n",
    "#beer_red = manifold.SpectralEmbedding(n_components=2).fit_transform(beer_reviews)\n",
    "print(beer_reviews.isnull().any())\n",
    "print (beer_reviews.columns)\n",
    "print (beer_reviews.shape)"
   ]
  },
  {
   "cell_type": "code",
   "execution_count": 3,
   "metadata": {
    "collapsed": false
   },
   "outputs": [
    {
     "data": {
      "text/plain": [
       "review_aroma         float64\n",
       "review_appearance    float64\n",
       "review_palate        float64\n",
       "review_taste         float64\n",
       "beer_abv             float64\n",
       "dtype: object"
      ]
     },
     "execution_count": 3,
     "metadata": {},
     "output_type": "execute_result"
    }
   ],
   "source": [
    "from sklearn import preprocessing\n",
    "#print (beer_reviews.dtypes)\n",
    "#dataset subset\n",
    "#beer_rev=beer_reviews[['brewery_id','review_time','review_overall','review_aroma','review_appearance','review_palate','review_taste','beer_abv','beer_beerid']]\n",
    "#beer_rev=beer_reviews[['brewery_id','review_time','review_aroma','review_appearance','review_palate','review_taste','beer_abv','beer_beerid']]\n",
    "beer_rev=beer_reviews[['review_aroma','review_appearance','review_palate','review_taste','beer_abv']]\n",
    "#estandarización de los datos\n",
    "beer_r = beer_rev.copy()\n",
    "#beer_r['brewery_id'] = preprocessing.scale(beer_r['brewery_id'].astype(np.float64))\n",
    "beer_r['review_aroma'] = preprocessing.scale(beer_r['review_aroma'].astype(np.float))\n",
    "beer_r['review_appearance'] = preprocessing.scale(beer_r['review_appearance'].astype(np.float))\n",
    "beer_r['review_palate'] = preprocessing.scale(beer_r['review_palate'].astype(np.float))\n",
    "beer_r['review_taste'] = preprocessing.scale(beer_r['review_taste'].astype(np.float))\n",
    "beer_r['beer_abv'] = preprocessing.scale(beer_r['beer_abv'].astype(np.float))\n",
    "beer_red = manifold.SpectralEmbedding(n_components=2).fit_transform(beer_r)\n",
    "beer_r.dtypes"
   ]
  },
  {
   "cell_type": "markdown",
   "metadata": {},
   "source": [
    "Elección de parametros para kmeans, ver:\n",
    "    \n",
    "    \n",
    "http://stats.stackexchange.com/questions/9850/how-to-plot-data-output-of-clustering"
   ]
  },
  {
   "cell_type": "markdown",
   "metadata": {},
   "source": [
    "**K-Means**:K-Means es un método de clustering que tiene como objetivo particionar n mediciones de un conjunto en k grupos en la que cada observación pertenece al grupo cuyo centroide es más cercano dentro de la distribución de los datos.\n",
    "\n"
   ]
  },
  {
   "cell_type": "code",
   "execution_count": 15,
   "metadata": {
    "collapsed": false
   },
   "outputs": [
    {
     "data": {
      "image/png": "[encoded data removed]",
      "text/plain": [
       "<matplotlib.figure.Figure at 0x7fe15e0f0320>"
      ]
     },
     "metadata": {},
     "output_type": "display_data"
    }
   ],
   "source": [
    "from sklearn.cluster import KMeans\n",
    "#kmeans = KMeans(init='k-means++',n_clusters=2)\n",
    "kmeans = KMeans(init='random',n_clusters=2)\n",
    "kmeans.fit(beer_red)\n",
    "#Reducción de dimensión\n",
    "plot = manifold.MDS(n_components=2).fit_transform(beer_red)\n",
    "X = []\n",
    "Y = []\n",
    "for x,y in plot:\n",
    "    X.append(x)\n",
    "    Y.append(y)\n",
    "#Ploteo del cluster\n",
    "plt.scatter(X,Y)\n",
    "plt.show()\n"
   ]
  },
  {
   "cell_type": "code",
   "execution_count": 14,
   "metadata": {
    "collapsed": false
   },
   "outputs": [
    {
     "data": {
      "image/png": "[encoded data removed]",
      "text/plain": [
       "<matplotlib.figure.Figure at 0x7fe15e795be0>"
      ]
     },
     "metadata": {},
     "output_type": "display_data"
    }
   ],
   "source": [
    "import numpy as np\n",
    "import scipy\n",
    "import matplotlib.pyplot as plt\n",
    "import sklearn\n",
    "from sklearn.datasets.samples_generator import make_blobs\n",
    "np.random.seed(0)\n",
    "centers = [[1,1],[-1,-1]]\n",
    "X, labels_true = make_blobs(n_samples=10000, centers=centers, cluster_std = 0.1)\n",
    "from sklearn.cluster import KMeans\n",
    "k_means = KMeans(init=\"random\", n_clusters=2, n_init=10)\n",
    "k_means.fit(X)\n",
    "k_means_labels = k_means.labels_\n",
    "k_means_cluster_centers = k_means.cluster_centers_\n",
    "fig = plt.figure(figsize=(3,3))\n",
    "colors = ['#4EACC5','#FF9C34','#4E9A06']\n",
    "ax = fig.add_subplot(1,1,1)\n",
    "ax.set_title('KMeans')\n",
    "for k, col in zip(range(3), colors):\n",
    "\tmy_members = k_means_labels == k\n",
    "\tax.plot(X[my_members, 0], X[my_members, 1], 'w', markerfacecolor=col, marker='.')\n",
    "\t\n",
    "ax.set_xticks(())\n",
    "ax.set_yticks(())\n",
    "plt.show()"
   ]
  },
  {
   "cell_type": "markdown",
   "metadata": {},
   "source": [
    "**Minibatch K-MEANS**:\n",
    "\n",
    "Es una variación del algoritmo de K-means que se usa pequeños lotes \"mini-batches\" de datos para correr k-means cuando la colección de datos es muy grande para que quepa en memoria."
   ]
  },
  {
   "cell_type": "code",
   "execution_count": 17,
   "metadata": {
    "collapsed": false
   },
   "outputs": [
    {
     "data": {
      "image/png": "[encoded data removed]",
      "text/plain": [
       "<matplotlib.figure.Figure at 0x7fe15e0eb160>"
      ]
     },
     "metadata": {},
     "output_type": "display_data"
    }
   ],
   "source": [
    "from sklearn.cluster import MiniBatchKMeans\n",
    "from sklearn import manifold\n",
    "kmeans = MiniBatchKMeans(init='k-means++',n_clusters=4)\n",
    "kmeans.fit(beer_red)\n",
    "#Reducción de dimensión\n",
    "plot = manifold.MDS(n_components=2).fit_transform(beer_red)\n",
    "#Ploteo del cluster\n",
    "X = []\n",
    "Y = []\n",
    "for x,y in plot:\n",
    "    X.append(x)\n",
    "    Y.append(y)\n",
    "#Ploteo del cluster\n",
    "plt.scatter(X,Y)\n",
    "plt.show()\n"
   ]
  },
  {
   "cell_type": "markdown",
   "metadata": {},
   "source": [
    "**HAC Complete**\n",
    "Hierarchical Agglomerative Clustering"
   ]
  },
  {
   "cell_type": "code",
   "execution_count": 20,
   "metadata": {
    "collapsed": false
   },
   "outputs": [
    {
     "ename": "AttributeError",
     "evalue": "'DataFrame' object has no attribute 'data'",
     "output_type": "error",
     "traceback": [
      "\u001b[0;31m---------------------------------------------------------------------------\u001b[0m",
      "\u001b[0;31mAttributeError\u001b[0m                            Traceback (most recent call last)",
      "\u001b[0;32m<ipython-input-20-713a6cb905ca>\u001b[0m in \u001b[0;36m<module>\u001b[0;34m()\u001b[0m\n\u001b[1;32m      1\u001b[0m \u001b[1;32mfrom\u001b[0m \u001b[0msklearn\u001b[0m \u001b[1;32mimport\u001b[0m \u001b[0mdatasets\u001b[0m\u001b[1;33m\u001b[0m\u001b[0m\n\u001b[1;32m      2\u001b[0m \u001b[1;31m#digits = datasets.load_digits(n_class=10)\u001b[0m\u001b[1;33m\u001b[0m\u001b[1;33m\u001b[0m\u001b[0m\n\u001b[0;32m----> 3\u001b[0;31m \u001b[0mX\u001b[0m \u001b[1;33m=\u001b[0m \u001b[0mbeer_reviews\u001b[0m\u001b[1;33m.\u001b[0m\u001b[0mdata\u001b[0m\u001b[1;33m\u001b[0m\u001b[0m\n\u001b[0m\u001b[1;32m      4\u001b[0m \u001b[0my\u001b[0m \u001b[1;33m=\u001b[0m \u001b[0mbeer_reviews\u001b[0m\u001b[1;33m.\u001b[0m\u001b[0mtarget\u001b[0m\u001b[1;33m\u001b[0m\u001b[0m\n\u001b[1;32m      5\u001b[0m \u001b[0mn_samples\u001b[0m\u001b[1;33m,\u001b[0m \u001b[0mn_features\u001b[0m \u001b[1;33m=\u001b[0m \u001b[0mX\u001b[0m\u001b[1;33m.\u001b[0m\u001b[0mshape\u001b[0m\u001b[1;33m\u001b[0m\u001b[0m\n",
      "\u001b[0;32mC:\\Users\\je_cs\\Anaconda3\\lib\\site-packages\\pandas\\core\\generic.py\u001b[0m in \u001b[0;36m__getattr__\u001b[0;34m(self, name)\u001b[0m\n\u001b[1;32m   2742\u001b[0m             \u001b[1;32mif\u001b[0m \u001b[0mname\u001b[0m \u001b[1;32min\u001b[0m \u001b[0mself\u001b[0m\u001b[1;33m.\u001b[0m\u001b[0m_info_axis\u001b[0m\u001b[1;33m:\u001b[0m\u001b[1;33m\u001b[0m\u001b[0m\n\u001b[1;32m   2743\u001b[0m                 \u001b[1;32mreturn\u001b[0m \u001b[0mself\u001b[0m\u001b[1;33m[\u001b[0m\u001b[0mname\u001b[0m\u001b[1;33m]\u001b[0m\u001b[1;33m\u001b[0m\u001b[0m\n\u001b[0;32m-> 2744\u001b[0;31m             \u001b[1;32mreturn\u001b[0m \u001b[0mobject\u001b[0m\u001b[1;33m.\u001b[0m\u001b[0m__getattribute__\u001b[0m\u001b[1;33m(\u001b[0m\u001b[0mself\u001b[0m\u001b[1;33m,\u001b[0m \u001b[0mname\u001b[0m\u001b[1;33m)\u001b[0m\u001b[1;33m\u001b[0m\u001b[0m\n\u001b[0m\u001b[1;32m   2745\u001b[0m \u001b[1;33m\u001b[0m\u001b[0m\n\u001b[1;32m   2746\u001b[0m     \u001b[1;32mdef\u001b[0m \u001b[0m__setattr__\u001b[0m\u001b[1;33m(\u001b[0m\u001b[0mself\u001b[0m\u001b[1;33m,\u001b[0m \u001b[0mname\u001b[0m\u001b[1;33m,\u001b[0m \u001b[0mvalue\u001b[0m\u001b[1;33m)\u001b[0m\u001b[1;33m:\u001b[0m\u001b[1;33m\u001b[0m\u001b[0m\n",
      "\u001b[0;31mAttributeError\u001b[0m: 'DataFrame' object has no attribute 'data'"
     ]
    }
   ],
   "source": [
    "from sklearn import datasets\n",
    "#digits = datasets.load_digits(n_class=10)\n",
    "X = beer_reviews.data\n",
    "y = beer_reviews.target\n",
    "n_samples, n_features = X.shape\n",
    "from sklearn import manifold\n",
    "X_red = manifold.SpectralEmbedding(n_components=2).fit_transform(X)\n",
    "from sklearn.cluster import AgglomerativeClustering as hac\n",
    "clustering = hac(linkage=\"complete\", n_clusters=10, affinity=\"euclidean\")\n",
    "clustering.fit(X)\n",
    "x_min, x_max = numpy.min(X_red, axis=0), numpy.max(X_red, axis=0)\n",
    "X_red = (X_red - x_min)/(x_max - x_min)\n",
    "for i in range(X_red.shape[0]):\n",
    "\tplt.text(X_red[i,0], X_red[i,1], str(y[i]),\n",
    "\tcolor=plt.cm.spectral(clustering.labels_[i]/10.),\n",
    "\tfontdict={'weight': 'bold', 'size': 8})\n",
    "\n",
    "plt.show()"
   ]
  },
  {
   "cell_type": "markdown",
   "metadata": {},
   "source": [
    "**DBSCAN**"
   ]
  },
  {
   "cell_type": "code",
   "execution_count": 1,
   "metadata": {
    "collapsed": false
   },
   "outputs": [
    {
     "ename": "TabError",
     "evalue": "inconsistent use of tabs and spaces in indentation (<ipython-input-1-29ce6d8f4786>, line 25)",
     "output_type": "error",
     "traceback": [
      "\u001b[0;36m  File \u001b[0;32m\"<ipython-input-1-29ce6d8f4786>\"\u001b[0;36m, line \u001b[0;32m25\u001b[0m\n\u001b[0;31m    plt.plot(xy[:, 0], xy[:, 1], 'o', markerfacecolor=col, markeredgecolor='k', markersize=6)\u001b[0m\n\u001b[0m                                                                                             ^\u001b[0m\n\u001b[0;31mTabError\u001b[0m\u001b[0;31m:\u001b[0m inconsistent use of tabs and spaces in indentation\n"
     ]
    }
   ],
   "source": [
    "import numpy, scipy\n",
    "import matplotlib.pyplot as plt\n",
    "from sklearn.cluster import DBSCAN\n",
    "from sklearn.preprocessing import StandardScaler\n",
    "from sklearn import datasets\n",
    "\n",
    "noisy_moons = datasets.make_moons(n_samples=1000, noise=.05)\n",
    "X, y = noisy_moons\n",
    "X = StandardScaler().fit_transform(X)\n",
    "db = DBSCAN(eps=0.3, min_samples=10).fit(X)\n",
    "core_samples_mask = numpy.zeros_like(db.labels_, dtype = bool)\n",
    "core_samples_mask[db.core_sample_indices_] = True\n",
    "labels = db.labels_\n",
    "unique_labels = set(labels)\n",
    "colors = plt.cm.Spectral(numpy.linspace(0, 1, len(unique_labels)))\n",
    "for k, col in zip(unique_labels, colors):\n",
    "\tif k == -1:\n",
    "\t\tcol = 'k'\n",
    "\n",
    "\tclass_member_mask = (labels == k)\n",
    "\n",
    "\txy = X[class_member_mask & core_samples_mask]\n",
    "\tplt.plot(xy[:, 0], xy[:, 1], 'o', markerfacecolor=col, markeredgecolor='k', markersize=10)\n",
    "\txy = X[class_member_mask & ~core_samples_mask]\n",
    "        plt.plot(xy[:, 0], xy[:, 1], 'o', markerfacecolor=col, markeredgecolor='k', markersize=6)\n",
    "\n",
    "plt.title(\"DBSCAN\")\n",
    "plt.show()"
   ]
  },
  {
   "cell_type": "markdown",
   "metadata": {},
   "source": [
    "**Ward**"
   ]
  },
  {
   "cell_type": "code",
   "execution_count": null,
   "metadata": {
    "collapsed": true
   },
   "outputs": [],
   "source": [
    "TODO/ Mostrar una visualización por cada algoritmo, Realizar ajustes a los parámentros para lograr un buen cluster..JUSTIFICAR PROCEDIMIENTO Y ELECCIÓN DE PARÁMETROS.\n",
    "\n",
    "Encontrar el atributo que mejor representa el cluster, nombre de cervecería ó tipo de cerveza?"
   ]
  }
 ],
 "metadata": {
  "celltoolbar": "Slideshow",
  "kernelspec": {
   "display_name": "Python 3",
   "language": "python",
   "name": "python3"
  },
  "language_info": {
   "codemirror_mode": {
    "name": "ipython",
    "version": 3
   },
   "file_extension": ".py",
   "mimetype": "text/x-python",
   "name": "python",
   "nbconvert_exporter": "python",
   "pygments_lexer": "ipython3",
   "version": "3.6.0"
  }
 },
 "nbformat": 4,
 "nbformat_minor": 2
}
